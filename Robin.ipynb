{
 "cells": [
  {
   "cell_type": "code",
   "execution_count": 17,
   "metadata": {},
   "outputs": [],
   "source": [
    "import sys\n",
    "import time\n",
    "import random\n",
    "import math\n",
    "import itertools\n",
    "import numpy as np\n",
    "import pandas as pd\n",
    "import matplotlib.pyplot as plt\n",
    "import seaborn as sn\n",
    "import networkx as nx\n",
    "\n",
    "from copy import deepcopy\n",
    "from typing import Union, List, Tuple, Dict\n",
    "from pgmpy.readwrite import XMLBIFReader\n",
    "\n",
    "from BayesNet import *\n",
    "from BNReasoner import *\n",
    "from utils import *"
   ]
  },
  {
   "cell_type": "markdown",
   "metadata": {},
   "source": [
    "# Initialize\n",
    "---"
   ]
  },
  {
   "cell_type": "code",
   "execution_count": 18,
   "metadata": {},
   "outputs": [],
   "source": [
    "# BIFXML files\n",
    "net = './testing/car_ex.BIFXML'"
   ]
  },
  {
   "cell_type": "code",
   "execution_count": 19,
   "metadata": {},
   "outputs": [],
   "source": [
    "# constructs a BN object\n",
    "bn = BayesNet()\n",
    "\n",
    "# Loads the BN from an BIFXML file\n",
    "bn.load_from_bifxml(net)\n",
    "\n",
    "# create reasoner\n",
    "bnr = BNReasoner(bn)"
   ]
  },
  {
   "cell_type": "markdown",
   "metadata": {},
   "source": [
    "### PERFORMANCE EVALUATION"
   ]
  },
  {
   "cell_type": "code",
   "execution_count": 86,
   "metadata": {},
   "outputs": [
    {
     "name": "stdout",
     "output_type": "stream",
     "text": [
      "MAP done in 0.4 seconds!\n",
      "\n",
      "MAP:\n",
      "{'f_mult(f_mult(SparkPlugs-f_mult(Distributor-f_mult(FuelPump-f_mult(Starts-f_mult(Leak2-f_mult(Starter-f_mult(EngineCranks-f_mult(f_mult(BatteryPower-f_mult(Leak-f_mult(FanBelt-f_mult(Alternator-Charge)_sum(Alternator))_sum(FanBelt))_sum(Leak))_sum(Charge)-f_mult(BatteryAge-BatteryState)_sum(BatteryAge))_sum(BatteryState))_sum(BatteryPower))_sum(Starter))_sum(Leak2))_sum(EngineCranks))_sum(FuelPump))_sum(Distributor))_sum(SparkPlugs))_max(Starts)': p                  0\n",
      "inst_Starts    False\n",
      "Name: 0, dtype: object}\n",
      "\n"
     ]
    }
   ],
   "source": [
    "evi = {\n",
    "        'FanBelt': 'Broken', \n",
    "        'Leak2': 'False',\n",
    "        'FuelPump': 'Ok'\n",
    "}\n",
    "qry = ['Starts']\n",
    "\n",
    "start = time.time()\n",
    "MAP = bnr.MAP(query=qry, evidence=evi, ordering_function=minfill_order)\n",
    "end = time.time()\n",
    "\n",
    "print(f\"MAP done in {round(end - start, 3)} seconds!\\n\")\n",
    "\n",
    "print(f\"MAP:\\n{MAP}\\n\")"
   ]
  },
  {
   "cell_type": "code",
   "execution_count": null,
   "metadata": {},
   "outputs": [],
   "source": []
  },
  {
   "cell_type": "code",
   "execution_count": 87,
   "metadata": {},
   "outputs": [],
   "source": [
    "data = []"
   ]
  },
  {
   "cell_type": "code",
   "execution_count": 96,
   "metadata": {},
   "outputs": [
    {
     "name": "stdout",
     "output_type": "stream",
     "text": [
      "MAP done in 0.372 seconds!\n",
      "\n",
      "MAP:\n",
      "{'f_mult(f_mult(SparkPlugs-f_mult(Distributor-f_mult(FuelPump-f_mult(Starts-f_mult(Leak2-f_mult(Starter-f_mult(EngineCranks-f_mult(f_mult(BatteryPower-f_mult(Leak-f_mult(FanBelt-f_mult(Alternator-Charge)_sum(Alternator))_sum(FanBelt))_sum(Leak))_sum(Charge)-f_mult(BatteryAge-BatteryState)_sum(BatteryAge))_sum(BatteryState))_sum(BatteryPower))_sum(Starter))_sum(Leak2))_sum(EngineCranks))_sum(FuelPump))_sum(Distributor))_sum(SparkPlugs))_max(Starts)': p                  0\n",
      "inst_Starts    False\n",
      "Name: 0, dtype: object}\n",
      "\n"
     ]
    },
    {
     "data": {
      "text/plain": [
       "[('MAP',\n",
       "  18,\n",
       "  'random',\n",
       "  ['Starts'],\n",
       "  {'FanBelt': 'Broken', 'Leak2': 'False', 'FuelPump': 'Ok'},\n",
       "  0.7777614593505859),\n",
       " ('MAP',\n",
       "  18,\n",
       "  'random',\n",
       "  ['Starts'],\n",
       "  {'FanBelt': 'Broken', 'Leak2': 'False', 'FuelPump': 'Ok'},\n",
       "  0.6108369827270508),\n",
       " ('MAP',\n",
       "  18,\n",
       "  'random',\n",
       "  ['Starts'],\n",
       "  {'FanBelt': 'Broken', 'Leak2': 'False', 'FuelPump': 'Ok'},\n",
       "  0.6997759342193604),\n",
       " ('MAP',\n",
       "  18,\n",
       "  'mindeg',\n",
       "  ['Starts'],\n",
       "  {'FanBelt': 'Broken', 'Leak2': 'False', 'FuelPump': 'Ok'},\n",
       "  0.37189316749572754),\n",
       " ('MAP',\n",
       "  18,\n",
       "  'mindeg',\n",
       "  ['Starts'],\n",
       "  {'FanBelt': 'Broken', 'Leak2': 'False', 'FuelPump': 'Ok'},\n",
       "  0.41589784622192383),\n",
       " ('MAP',\n",
       "  18,\n",
       "  'mindeg',\n",
       "  ['Starts'],\n",
       "  {'FanBelt': 'Broken', 'Leak2': 'False', 'FuelPump': 'Ok'},\n",
       "  0.40886926651000977),\n",
       " ('MAP',\n",
       "  18,\n",
       "  'minfill',\n",
       "  ['Starts'],\n",
       "  {'FanBelt': 'Broken', 'Leak2': 'False', 'FuelPump': 'Ok'},\n",
       "  0.4028937816619873),\n",
       " ('MAP',\n",
       "  18,\n",
       "  'minfill',\n",
       "  ['Starts'],\n",
       "  {'FanBelt': 'Broken', 'Leak2': 'False', 'FuelPump': 'Ok'},\n",
       "  0.3999032974243164),\n",
       " ('MAP',\n",
       "  18,\n",
       "  'minfill',\n",
       "  ['Starts'],\n",
       "  {'FanBelt': 'Broken', 'Leak2': 'False', 'FuelPump': 'Ok'},\n",
       "  0.37189388275146484)]"
      ]
     },
     "execution_count": 96,
     "metadata": {},
     "output_type": "execute_result"
    }
   ],
   "source": [
    "evi = {\n",
    "        'FanBelt': 'Broken', \n",
    "        'Leak2': 'False',\n",
    "        'FuelPump': 'Ok'\n",
    "}\n",
    "qry = ['Starts']\n",
    "\n",
    "start = time.time()\n",
    "MAP = bnr.MAP(query=qry, evidence=evi, ordering_function=minfill_order)\n",
    "end = time.time()\n",
    "\n",
    "print(f\"MAP done in {round(end - start, 3)} seconds!\\n\")\n",
    "\n",
    "print(f\"MAP:\\n{MAP}\\n\")\n",
    "\n",
    "data.append(('MAP', 18, 'minfill', qry, evi, end-start))\n",
    "data"
   ]
  },
  {
   "cell_type": "code",
   "execution_count": 97,
   "metadata": {},
   "outputs": [
    {
     "data": {
      "text/html": [
       "<div>\n",
       "<style scoped>\n",
       "    .dataframe tbody tr th:only-of-type {\n",
       "        vertical-align: middle;\n",
       "    }\n",
       "\n",
       "    .dataframe tbody tr th {\n",
       "        vertical-align: top;\n",
       "    }\n",
       "\n",
       "    .dataframe thead th {\n",
       "        text-align: right;\n",
       "    }\n",
       "</style>\n",
       "<table border=\"1\" class=\"dataframe\">\n",
       "  <thead>\n",
       "    <tr style=\"text-align: right;\">\n",
       "      <th></th>\n",
       "      <th>Method</th>\n",
       "      <th>Vars</th>\n",
       "      <th>Ordering</th>\n",
       "      <th>Query</th>\n",
       "      <th>Evidence</th>\n",
       "      <th>Runtime</th>\n",
       "    </tr>\n",
       "  </thead>\n",
       "  <tbody>\n",
       "    <tr>\n",
       "      <th>0</th>\n",
       "      <td>MAP</td>\n",
       "      <td>18</td>\n",
       "      <td>random</td>\n",
       "      <td>[Starts]</td>\n",
       "      <td>{'FanBelt': 'Broken', 'Leak2': 'False', 'FuelP...</td>\n",
       "      <td>0.777761</td>\n",
       "    </tr>\n",
       "    <tr>\n",
       "      <th>1</th>\n",
       "      <td>MAP</td>\n",
       "      <td>18</td>\n",
       "      <td>random</td>\n",
       "      <td>[Starts]</td>\n",
       "      <td>{'FanBelt': 'Broken', 'Leak2': 'False', 'FuelP...</td>\n",
       "      <td>0.610837</td>\n",
       "    </tr>\n",
       "    <tr>\n",
       "      <th>2</th>\n",
       "      <td>MAP</td>\n",
       "      <td>18</td>\n",
       "      <td>random</td>\n",
       "      <td>[Starts]</td>\n",
       "      <td>{'FanBelt': 'Broken', 'Leak2': 'False', 'FuelP...</td>\n",
       "      <td>0.699776</td>\n",
       "    </tr>\n",
       "    <tr>\n",
       "      <th>3</th>\n",
       "      <td>MAP</td>\n",
       "      <td>18</td>\n",
       "      <td>mindeg</td>\n",
       "      <td>[Starts]</td>\n",
       "      <td>{'FanBelt': 'Broken', 'Leak2': 'False', 'FuelP...</td>\n",
       "      <td>0.371893</td>\n",
       "    </tr>\n",
       "    <tr>\n",
       "      <th>4</th>\n",
       "      <td>MAP</td>\n",
       "      <td>18</td>\n",
       "      <td>mindeg</td>\n",
       "      <td>[Starts]</td>\n",
       "      <td>{'FanBelt': 'Broken', 'Leak2': 'False', 'FuelP...</td>\n",
       "      <td>0.415898</td>\n",
       "    </tr>\n",
       "    <tr>\n",
       "      <th>5</th>\n",
       "      <td>MAP</td>\n",
       "      <td>18</td>\n",
       "      <td>mindeg</td>\n",
       "      <td>[Starts]</td>\n",
       "      <td>{'FanBelt': 'Broken', 'Leak2': 'False', 'FuelP...</td>\n",
       "      <td>0.408869</td>\n",
       "    </tr>\n",
       "    <tr>\n",
       "      <th>6</th>\n",
       "      <td>MAP</td>\n",
       "      <td>18</td>\n",
       "      <td>minfill</td>\n",
       "      <td>[Starts]</td>\n",
       "      <td>{'FanBelt': 'Broken', 'Leak2': 'False', 'FuelP...</td>\n",
       "      <td>0.402894</td>\n",
       "    </tr>\n",
       "    <tr>\n",
       "      <th>7</th>\n",
       "      <td>MAP</td>\n",
       "      <td>18</td>\n",
       "      <td>minfill</td>\n",
       "      <td>[Starts]</td>\n",
       "      <td>{'FanBelt': 'Broken', 'Leak2': 'False', 'FuelP...</td>\n",
       "      <td>0.399903</td>\n",
       "    </tr>\n",
       "    <tr>\n",
       "      <th>8</th>\n",
       "      <td>MAP</td>\n",
       "      <td>18</td>\n",
       "      <td>minfill</td>\n",
       "      <td>[Starts]</td>\n",
       "      <td>{'FanBelt': 'Broken', 'Leak2': 'False', 'FuelP...</td>\n",
       "      <td>0.371894</td>\n",
       "    </tr>\n",
       "  </tbody>\n",
       "</table>\n",
       "</div>"
      ],
      "text/plain": [
       "  Method  Vars Ordering     Query  \\\n",
       "0    MAP    18   random  [Starts]   \n",
       "1    MAP    18   random  [Starts]   \n",
       "2    MAP    18   random  [Starts]   \n",
       "3    MAP    18   mindeg  [Starts]   \n",
       "4    MAP    18   mindeg  [Starts]   \n",
       "5    MAP    18   mindeg  [Starts]   \n",
       "6    MAP    18  minfill  [Starts]   \n",
       "7    MAP    18  minfill  [Starts]   \n",
       "8    MAP    18  minfill  [Starts]   \n",
       "\n",
       "                                            Evidence   Runtime  \n",
       "0  {'FanBelt': 'Broken', 'Leak2': 'False', 'FuelP...  0.777761  \n",
       "1  {'FanBelt': 'Broken', 'Leak2': 'False', 'FuelP...  0.610837  \n",
       "2  {'FanBelt': 'Broken', 'Leak2': 'False', 'FuelP...  0.699776  \n",
       "3  {'FanBelt': 'Broken', 'Leak2': 'False', 'FuelP...  0.371893  \n",
       "4  {'FanBelt': 'Broken', 'Leak2': 'False', 'FuelP...  0.415898  \n",
       "5  {'FanBelt': 'Broken', 'Leak2': 'False', 'FuelP...  0.408869  \n",
       "6  {'FanBelt': 'Broken', 'Leak2': 'False', 'FuelP...  0.402894  \n",
       "7  {'FanBelt': 'Broken', 'Leak2': 'False', 'FuelP...  0.399903  \n",
       "8  {'FanBelt': 'Broken', 'Leak2': 'False', 'FuelP...  0.371894  "
      ]
     },
     "execution_count": 97,
     "metadata": {},
     "output_type": "execute_result"
    }
   ],
   "source": [
    "df = pd.DataFrame(data, columns=[\"Method\", \"Vars\", \"Ordering\", \"Query\", \"Evidence\", \"Runtime\"])\n",
    "df"
   ]
  },
  {
   "cell_type": "code",
   "execution_count": 98,
   "metadata": {},
   "outputs": [],
   "source": [
    "df.to_csv(\"outputs/map_18_q3.csv\", sep='\\t', index=False)"
   ]
  },
  {
   "cell_type": "code",
   "execution_count": null,
   "metadata": {},
   "outputs": [],
   "source": []
  },
  {
   "cell_type": "markdown",
   "metadata": {},
   "source": [
    "# MPE"
   ]
  },
  {
   "cell_type": "code",
   "execution_count": 115,
   "metadata": {},
   "outputs": [
    {
     "name": "stdout",
     "output_type": "stream",
     "text": [
      "MPE done in 0.831 seconds!\n",
      "\n",
      "MPE:\n",
      "[p                        0\n",
      "inst_EngineCranks    False\n",
      "inst_Radio           False\n",
      "Name: 0, dtype: object]\n"
     ]
    }
   ],
   "source": [
    "evi = {'Starts': 'Yes'}\n",
    "\n",
    "start = time.time()\n",
    "MPE = bnr.MPE(evidence=evi, ordering_function=random_order)\n",
    "end = time.time()\n",
    "\n",
    "print(f\"MPE done in {round(end - start, 3)} seconds!\\n\")\n",
    "\n",
    "print(f\"MPE:\\n{[MPE[key] for key in MPE]}\")"
   ]
  },
  {
   "cell_type": "code",
   "execution_count": 147,
   "metadata": {},
   "outputs": [],
   "source": [
    "data = []"
   ]
  },
  {
   "cell_type": "code",
   "execution_count": 150,
   "metadata": {},
   "outputs": [
    {
     "name": "stdout",
     "output_type": "stream",
     "text": [
      "MPE done in 0.576 seconds!\n",
      "\n",
      "MPE:\n",
      "{'f_mult(f_mult(GasInTank-f_mult(GasGauge)_max(GasGauge))_max(GasInTank)-f_mult(Lights)_max(Lights)-f_mult(Radio)_max(Radio)-f_mult(Distributor-f_mult(Leak2-f_mult(FuelPump-f_mult(f_mult(Starter-EngineCranks)_max(Starter)-f_mult(f_mult(SparkPlugs-Starts)_max(SparkPlugs))_max(Starts))_max(EngineCranks))_max(FuelPump))_max(Leak2))_max(Distributor)-f_mult(f_mult(BatteryAge-BatteryState)_max(BatteryAge)-f_mult(FanBelt-f_mult(BatteryPower-f_mult(Leak-f_mult(Alternator-Charge)_max(Alternator))_max(Leak))_max(Charge))_max(FanBelt))_max(BatteryState))_max(BatteryPower)': inst_GasInTank       False\n",
      "inst_Lights          False\n",
      "inst_Radio           False\n",
      "inst_Distributor     False\n",
      "p                        0\n",
      "inst_BatteryState    False\n",
      "inst_BatteryPower    False\n",
      "Name: 0, dtype: object}\n"
     ]
    },
    {
     "data": {
      "text/plain": [
       "[('MPE', 18, 'random', {'EngineCranks': 'Cranks'}, 0.7677385807037354),\n",
       " ('MPE', 18, 'random', {'EngineCranks': 'Cranks'}, 0.6298301219940186),\n",
       " ('MPE', 18, 'random', {'EngineCranks': 'Cranks'}, 0.5758273601531982)]"
      ]
     },
     "execution_count": 150,
     "metadata": {},
     "output_type": "execute_result"
    }
   ],
   "source": [
    "evi = {'EngineCranks': 'Cranks'}\n",
    "\n",
    "start = time.time()\n",
    "MPE = bnr.MPE(evidence=evi, ordering_function=random_order)\n",
    "end = time.time()\n",
    "\n",
    "print(f\"MPE done in {round(end - start, 3)} seconds!\\n\")\n",
    "\n",
    "print(f\"MPE:\\n{MPE}\")\n",
    "\n",
    "data.append(('MPE', 18, 'random', evi, end-start))\n",
    "data"
   ]
  },
  {
   "cell_type": "code",
   "execution_count": 144,
   "metadata": {},
   "outputs": [
    {
     "data": {
      "text/html": [
       "<div>\n",
       "<style scoped>\n",
       "    .dataframe tbody tr th:only-of-type {\n",
       "        vertical-align: middle;\n",
       "    }\n",
       "\n",
       "    .dataframe tbody tr th {\n",
       "        vertical-align: top;\n",
       "    }\n",
       "\n",
       "    .dataframe thead th {\n",
       "        text-align: right;\n",
       "    }\n",
       "</style>\n",
       "<table border=\"1\" class=\"dataframe\">\n",
       "  <thead>\n",
       "    <tr style=\"text-align: right;\">\n",
       "      <th></th>\n",
       "      <th>Method</th>\n",
       "      <th>Vars</th>\n",
       "      <th>Ordering</th>\n",
       "      <th>Evidence</th>\n",
       "      <th>Runtime</th>\n",
       "    </tr>\n",
       "  </thead>\n",
       "  <tbody>\n",
       "    <tr>\n",
       "      <th>0</th>\n",
       "      <td>MPE</td>\n",
       "      <td>18</td>\n",
       "      <td>random</td>\n",
       "      <td>{'Starts': 'No'}</td>\n",
       "      <td>1.795438</td>\n",
       "    </tr>\n",
       "    <tr>\n",
       "      <th>1</th>\n",
       "      <td>MPE</td>\n",
       "      <td>18</td>\n",
       "      <td>random</td>\n",
       "      <td>{'Starts': 'No'}</td>\n",
       "      <td>2.678156</td>\n",
       "    </tr>\n",
       "    <tr>\n",
       "      <th>2</th>\n",
       "      <td>MPE</td>\n",
       "      <td>18</td>\n",
       "      <td>random</td>\n",
       "      <td>{'Starts': 'No'}</td>\n",
       "      <td>1.335584</td>\n",
       "    </tr>\n",
       "    <tr>\n",
       "      <th>3</th>\n",
       "      <td>MPE</td>\n",
       "      <td>18</td>\n",
       "      <td>mindeg</td>\n",
       "      <td>{'Starts': 'No'}</td>\n",
       "      <td>0.455864</td>\n",
       "    </tr>\n",
       "    <tr>\n",
       "      <th>4</th>\n",
       "      <td>MPE</td>\n",
       "      <td>18</td>\n",
       "      <td>mindeg</td>\n",
       "      <td>{'Starts': 'No'}</td>\n",
       "      <td>0.470877</td>\n",
       "    </tr>\n",
       "    <tr>\n",
       "      <th>5</th>\n",
       "      <td>MPE</td>\n",
       "      <td>18</td>\n",
       "      <td>mindeg</td>\n",
       "      <td>{'Starts': 'No'}</td>\n",
       "      <td>0.511849</td>\n",
       "    </tr>\n",
       "    <tr>\n",
       "      <th>6</th>\n",
       "      <td>MPE</td>\n",
       "      <td>18</td>\n",
       "      <td>minfill</td>\n",
       "      <td>{'Starts': 'No'}</td>\n",
       "      <td>0.469880</td>\n",
       "    </tr>\n",
       "    <tr>\n",
       "      <th>7</th>\n",
       "      <td>MPE</td>\n",
       "      <td>18</td>\n",
       "      <td>minfill</td>\n",
       "      <td>{'Starts': 'No'}</td>\n",
       "      <td>0.475869</td>\n",
       "    </tr>\n",
       "    <tr>\n",
       "      <th>8</th>\n",
       "      <td>MPE</td>\n",
       "      <td>18</td>\n",
       "      <td>minfill</td>\n",
       "      <td>{'Starts': 'No'}</td>\n",
       "      <td>0.483856</td>\n",
       "    </tr>\n",
       "  </tbody>\n",
       "</table>\n",
       "</div>"
      ],
      "text/plain": [
       "  Method  Vars Ordering          Evidence   Runtime\n",
       "0    MPE    18   random  {'Starts': 'No'}  1.795438\n",
       "1    MPE    18   random  {'Starts': 'No'}  2.678156\n",
       "2    MPE    18   random  {'Starts': 'No'}  1.335584\n",
       "3    MPE    18   mindeg  {'Starts': 'No'}  0.455864\n",
       "4    MPE    18   mindeg  {'Starts': 'No'}  0.470877\n",
       "5    MPE    18   mindeg  {'Starts': 'No'}  0.511849\n",
       "6    MPE    18  minfill  {'Starts': 'No'}  0.469880\n",
       "7    MPE    18  minfill  {'Starts': 'No'}  0.475869\n",
       "8    MPE    18  minfill  {'Starts': 'No'}  0.483856"
      ]
     },
     "execution_count": 144,
     "metadata": {},
     "output_type": "execute_result"
    }
   ],
   "source": [
    "df = pd.DataFrame(data, columns=[\"Method\", \"Vars\", \"Ordering\", \"Evidence\", \"Runtime\"])\n",
    "df"
   ]
  },
  {
   "cell_type": "code",
   "execution_count": 146,
   "metadata": {},
   "outputs": [],
   "source": [
    "# df.to_csv(\"outputs/mpe_18_q2.csv\", sep='\\t', index=False)"
   ]
  },
  {
   "cell_type": "code",
   "execution_count": null,
   "metadata": {},
   "outputs": [],
   "source": []
  },
  {
   "cell_type": "code",
   "execution_count": null,
   "metadata": {},
   "outputs": [],
   "source": []
  },
  {
   "cell_type": "code",
   "execution_count": null,
   "metadata": {},
   "outputs": [],
   "source": []
  },
  {
   "cell_type": "code",
   "execution_count": null,
   "metadata": {},
   "outputs": [],
   "source": []
  },
  {
   "cell_type": "code",
   "execution_count": null,
   "metadata": {},
   "outputs": [],
   "source": []
  },
  {
   "cell_type": "code",
   "execution_count": null,
   "metadata": {},
   "outputs": [],
   "source": []
  },
  {
   "cell_type": "markdown",
   "metadata": {},
   "source": [
    "# Usage\n",
    "---"
   ]
  },
  {
   "cell_type": "code",
   "execution_count": null,
   "metadata": {},
   "outputs": [],
   "source": [
    "# query inputs\n",
    "# evidence = {'hear-bark': True, 'family-out': True}\n",
    "# x = ['light-on']\n",
    "# prio = ['dog-out']"
   ]
  },
  {
   "cell_type": "markdown",
   "metadata": {},
   "source": [
    "### D-separation\n",
    "Checks whether x and y are d-separated, given (possibly empty) evidence. \n",
    "\n",
    "* x and y must be lists\n",
    "* evidence is (always) a dict\n",
    "* output is boolean"
   ]
  },
  {
   "cell_type": "code",
   "execution_count": null,
   "metadata": {},
   "outputs": [],
   "source": [
    "# dsep = bnr.d_separated(prio, x, evidence)\n",
    "# print(f\"Are {prio} and {x} d-separated by evidence '{evidence.keys()} = {evidence.values()}'?\\n\\n{dsep}\")"
   ]
  },
  {
   "cell_type": "markdown",
   "metadata": {},
   "source": [
    "### Ordering functions for determining elimination order\n",
    "inputs should be network structure\n",
    "* y = list of query variables\n",
    "* z = priority variables which are ordered first __[optional]__"
   ]
  },
  {
   "cell_type": "code",
   "execution_count": null,
   "metadata": {},
   "outputs": [],
   "source": [
    "# pi1 = mindeg_order(net=bn, query=prio)\n",
    "# pi2 = minfill_order(net=bn, query=prio)\n",
    "# print(f\"Variable orderings mindeg:\\t{pi1}\")\n",
    "# print(f\"Variable orderings minfill:\\t{pi2}\")"
   ]
  },
  {
   "cell_type": "markdown",
   "metadata": {},
   "source": [
    "### Marginal distributions\n",
    "with optional ordering function (name of function is input)"
   ]
  },
  {
   "cell_type": "code",
   "execution_count": null,
   "metadata": {},
   "outputs": [],
   "source": [
    "# without evidence:\n",
    "# prior_marginal = bnr.compute_marginal(query=x, ordering_function=random_order)\n",
    "# print(f\"\\n\\nPrior Marginal for Query {x}\\n{prior_marginal}\")\n",
    "\n",
    "# with evidence:\n",
    "# posterior_marginal = bnr.compute_marginal(query=x, evidence=evidence, ordering_function=minfill_order)\n",
    "# print(f\"\\nPosterior Marginal for Query {x} with Evidence {evidence}\\n{posterior_marginal}\")"
   ]
  },
  {
   "cell_type": "markdown",
   "metadata": {},
   "source": [
    "### Most likely instantiations"
   ]
  },
  {
   "cell_type": "code",
   "execution_count": null,
   "metadata": {},
   "outputs": [],
   "source": [
    "# MAP:\n",
    "# MAP = bnr.MAP(query=x, evidence=evidence)\n",
    "# print(f\"MAP:\\n{[MAP[key] for key in MAP]}\\n\")\n",
    "\n",
    "# MPE:\n",
    "# MPE = bnr.MPE(evidence=evidence, ordering_function=minfill_order)\n",
    "# print(f\"MPE:\\n{[MPE[key] for key in MPE]}\")"
   ]
  },
  {
   "cell_type": "code",
   "execution_count": null,
   "metadata": {},
   "outputs": [],
   "source": []
  },
  {
   "cell_type": "code",
   "execution_count": null,
   "metadata": {},
   "outputs": [],
   "source": []
  }
 ],
 "metadata": {
  "kernelspec": {
   "display_name": "Python 3",
   "language": "python",
   "name": "python3"
  },
  "language_info": {
   "codemirror_mode": {
    "name": "ipython",
    "version": 3
   },
   "file_extension": ".py",
   "mimetype": "text/x-python",
   "name": "python",
   "nbconvert_exporter": "python",
   "pygments_lexer": "ipython3",
   "version": "3.8.3"
  }
 },
 "nbformat": 4,
 "nbformat_minor": 4
}
