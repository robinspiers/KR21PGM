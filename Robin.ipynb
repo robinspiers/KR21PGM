{
 "cells": [
  {
   "cell_type": "code",
   "execution_count": 17,
   "metadata": {},
   "outputs": [],
   "source": [
    "import sys\n",
    "import time\n",
    "import random\n",
    "import math\n",
    "import itertools\n",
    "import numpy as np\n",
    "import pandas as pd\n",
    "import matplotlib.pyplot as plt\n",
    "import seaborn as sn\n",
    "import networkx as nx\n",
    "\n",
    "from copy import deepcopy\n",
    "from typing import Union, List, Tuple, Dict\n",
    "from pgmpy.readwrite import XMLBIFReader\n",
    "\n",
    "from BayesNet import *\n",
    "from BNReasoner import *\n",
    "from utils import *"
   ]
  },
  {
   "cell_type": "markdown",
   "metadata": {},
   "source": [
    "# Initialize\n",
    "---"
   ]
  },
  {
   "cell_type": "code",
   "execution_count": 151,
   "metadata": {},
   "outputs": [],
   "source": [
    "# BIFXML files\n",
    "net = './testing/KR_use_case.bifxml'"
   ]
  },
  {
   "cell_type": "code",
   "execution_count": 152,
   "metadata": {},
   "outputs": [],
   "source": [
    "# constructs a BN object\n",
    "bn = BayesNet()\n",
    "\n",
    "# Loads the BN from an BIFXML file\n",
    "bn.load_from_bifxml(net)\n",
    "\n",
    "# create reasoner\n",
    "bnr = BNReasoner(bn)"
   ]
  },
  {
   "cell_type": "markdown",
   "metadata": {},
   "source": [
    "### PERFORMANCE EVALUATION"
   ]
  },
  {
   "cell_type": "code",
   "execution_count": 198,
   "metadata": {},
   "outputs": [],
   "source": [
    "data = []"
   ]
  },
  {
   "cell_type": "code",
   "execution_count": 207,
   "metadata": {},
   "outputs": [
    {
     "name": "stdout",
     "output_type": "stream",
     "text": [
      "MAP done in 1.532 seconds!\n",
      "\n",
      "MAP:\n",
      "{'f_mult(f_mult(f_mult(f_mult(f_mult(Heart Failure-f_mult(f_mult(Blurry Vision-f_mult(High Sugar Intake-f_mult(f_mult(Stress-Obesity-Sleep Deprivation-Headache-Diabetes-Digestive Problems-High Blood Pressure)_sum(Stress))_sum(Obesity))_sum(High Sugar Intake))_sum(Sleep Deprivation))_sum(Headache))_sum(Diabetes))_sum(Digestive Problems))_sum(Heart Failure))_sum(High Blood Pressure))_max(Blurry Vision)': p                     3.6959e-06\n",
      "inst_Blurry Vision          True\n",
      "Name: 1, dtype: object}\n",
      "\n"
     ]
    },
    {
     "data": {
      "text/plain": [
       "[('MAP',\n",
       "  11,\n",
       "  'random',\n",
       "  ['Blurry Vision'],\n",
       "  {'Obesity': True, 'High Blood Pressure': True, 'Sleep Deprivation': False},\n",
       "  1.771449327468872),\n",
       " ('MAP',\n",
       "  11,\n",
       "  'random',\n",
       "  ['Blurry Vision'],\n",
       "  {'Obesity': True, 'High Blood Pressure': True, 'Sleep Deprivation': False},\n",
       "  1.844426155090332),\n",
       " ('MAP',\n",
       "  11,\n",
       "  'random',\n",
       "  ['Blurry Vision'],\n",
       "  {'Obesity': True, 'High Blood Pressure': True, 'Sleep Deprivation': False},\n",
       "  2.331270456314087),\n",
       " ('MAP',\n",
       "  11,\n",
       "  'mindeg',\n",
       "  ['Blurry Vision'],\n",
       "  {'Obesity': True, 'High Blood Pressure': True, 'Sleep Deprivation': False},\n",
       "  0.696791410446167),\n",
       " ('MAP',\n",
       "  11,\n",
       "  'mindeg',\n",
       "  ['Blurry Vision'],\n",
       "  {'Obesity': True, 'High Blood Pressure': True, 'Sleep Deprivation': False},\n",
       "  0.771782636642456),\n",
       " ('MAP',\n",
       "  11,\n",
       "  'mindeg',\n",
       "  ['Blurry Vision'],\n",
       "  {'Obesity': True, 'High Blood Pressure': True, 'Sleep Deprivation': False},\n",
       "  0.7027873992919922),\n",
       " ('MAP',\n",
       "  11,\n",
       "  'minfill',\n",
       "  ['Blurry Vision'],\n",
       "  {'Obesity': True, 'High Blood Pressure': True, 'Sleep Deprivation': False},\n",
       "  1.5675110816955566),\n",
       " ('MAP',\n",
       "  11,\n",
       "  'minfill',\n",
       "  ['Blurry Vision'],\n",
       "  {'Obesity': True, 'High Blood Pressure': True, 'Sleep Deprivation': False},\n",
       "  1.4785783290863037),\n",
       " ('MAP',\n",
       "  11,\n",
       "  'minfill',\n",
       "  ['Blurry Vision'],\n",
       "  {'Obesity': True, 'High Blood Pressure': True, 'Sleep Deprivation': False},\n",
       "  1.5315427780151367)]"
      ]
     },
     "execution_count": 207,
     "metadata": {},
     "output_type": "execute_result"
    }
   ],
   "source": [
    "evi = {\n",
    "        'Obesity': True, \n",
    "        'High Blood Pressure': True,\n",
    "        'Sleep Deprivation': False\n",
    "}\n",
    "qry = ['Blurry Vision']\n",
    "\n",
    "start = time.time()\n",
    "MAP = bnr.MAP(query=qry, evidence=evi, ordering_function=minfill_order)\n",
    "end = time.time()\n",
    "\n",
    "print(f\"MAP done in {round(end - start, 3)} seconds!\\n\")\n",
    "\n",
    "print(f\"MAP:\\n{MAP}\\n\")\n",
    "\n",
    "data.append(('MAP', 11, 'minfill', qry, evi, end-start))\n",
    "data"
   ]
  },
  {
   "cell_type": "code",
   "execution_count": 188,
   "metadata": {},
   "outputs": [
    {
     "data": {
      "text/plain": [
       "('MAP',\n",
       " 11,\n",
       " 'minfill',\n",
       " ['Blurry Vision'],\n",
       " {'Headache': True, 'Diabetes': False, 'Sleep Deprivation': True},\n",
       " 1.4665625095367432)"
      ]
     },
     "execution_count": 188,
     "metadata": {},
     "output_type": "execute_result"
    }
   ],
   "source": [
    "data.pop()"
   ]
  },
  {
   "cell_type": "code",
   "execution_count": 208,
   "metadata": {},
   "outputs": [
    {
     "data": {
      "text/html": [
       "<div>\n",
       "<style scoped>\n",
       "    .dataframe tbody tr th:only-of-type {\n",
       "        vertical-align: middle;\n",
       "    }\n",
       "\n",
       "    .dataframe tbody tr th {\n",
       "        vertical-align: top;\n",
       "    }\n",
       "\n",
       "    .dataframe thead th {\n",
       "        text-align: right;\n",
       "    }\n",
       "</style>\n",
       "<table border=\"1\" class=\"dataframe\">\n",
       "  <thead>\n",
       "    <tr style=\"text-align: right;\">\n",
       "      <th></th>\n",
       "      <th>Method</th>\n",
       "      <th>Vars</th>\n",
       "      <th>Ordering</th>\n",
       "      <th>Query</th>\n",
       "      <th>Evidence</th>\n",
       "      <th>Runtime</th>\n",
       "    </tr>\n",
       "  </thead>\n",
       "  <tbody>\n",
       "    <tr>\n",
       "      <th>0</th>\n",
       "      <td>MAP</td>\n",
       "      <td>11</td>\n",
       "      <td>random</td>\n",
       "      <td>[Blurry Vision]</td>\n",
       "      <td>{'Obesity': True, 'High Blood Pressure': True,...</td>\n",
       "      <td>1.771449</td>\n",
       "    </tr>\n",
       "    <tr>\n",
       "      <th>1</th>\n",
       "      <td>MAP</td>\n",
       "      <td>11</td>\n",
       "      <td>random</td>\n",
       "      <td>[Blurry Vision]</td>\n",
       "      <td>{'Obesity': True, 'High Blood Pressure': True,...</td>\n",
       "      <td>1.844426</td>\n",
       "    </tr>\n",
       "    <tr>\n",
       "      <th>2</th>\n",
       "      <td>MAP</td>\n",
       "      <td>11</td>\n",
       "      <td>random</td>\n",
       "      <td>[Blurry Vision]</td>\n",
       "      <td>{'Obesity': True, 'High Blood Pressure': True,...</td>\n",
       "      <td>2.331270</td>\n",
       "    </tr>\n",
       "    <tr>\n",
       "      <th>3</th>\n",
       "      <td>MAP</td>\n",
       "      <td>11</td>\n",
       "      <td>mindeg</td>\n",
       "      <td>[Blurry Vision]</td>\n",
       "      <td>{'Obesity': True, 'High Blood Pressure': True,...</td>\n",
       "      <td>0.696791</td>\n",
       "    </tr>\n",
       "    <tr>\n",
       "      <th>4</th>\n",
       "      <td>MAP</td>\n",
       "      <td>11</td>\n",
       "      <td>mindeg</td>\n",
       "      <td>[Blurry Vision]</td>\n",
       "      <td>{'Obesity': True, 'High Blood Pressure': True,...</td>\n",
       "      <td>0.771783</td>\n",
       "    </tr>\n",
       "    <tr>\n",
       "      <th>5</th>\n",
       "      <td>MAP</td>\n",
       "      <td>11</td>\n",
       "      <td>mindeg</td>\n",
       "      <td>[Blurry Vision]</td>\n",
       "      <td>{'Obesity': True, 'High Blood Pressure': True,...</td>\n",
       "      <td>0.702787</td>\n",
       "    </tr>\n",
       "    <tr>\n",
       "      <th>6</th>\n",
       "      <td>MAP</td>\n",
       "      <td>11</td>\n",
       "      <td>minfill</td>\n",
       "      <td>[Blurry Vision]</td>\n",
       "      <td>{'Obesity': True, 'High Blood Pressure': True,...</td>\n",
       "      <td>1.567511</td>\n",
       "    </tr>\n",
       "    <tr>\n",
       "      <th>7</th>\n",
       "      <td>MAP</td>\n",
       "      <td>11</td>\n",
       "      <td>minfill</td>\n",
       "      <td>[Blurry Vision]</td>\n",
       "      <td>{'Obesity': True, 'High Blood Pressure': True,...</td>\n",
       "      <td>1.478578</td>\n",
       "    </tr>\n",
       "    <tr>\n",
       "      <th>8</th>\n",
       "      <td>MAP</td>\n",
       "      <td>11</td>\n",
       "      <td>minfill</td>\n",
       "      <td>[Blurry Vision]</td>\n",
       "      <td>{'Obesity': True, 'High Blood Pressure': True,...</td>\n",
       "      <td>1.531543</td>\n",
       "    </tr>\n",
       "  </tbody>\n",
       "</table>\n",
       "</div>"
      ],
      "text/plain": [
       "  Method  Vars Ordering            Query  \\\n",
       "0    MAP    11   random  [Blurry Vision]   \n",
       "1    MAP    11   random  [Blurry Vision]   \n",
       "2    MAP    11   random  [Blurry Vision]   \n",
       "3    MAP    11   mindeg  [Blurry Vision]   \n",
       "4    MAP    11   mindeg  [Blurry Vision]   \n",
       "5    MAP    11   mindeg  [Blurry Vision]   \n",
       "6    MAP    11  minfill  [Blurry Vision]   \n",
       "7    MAP    11  minfill  [Blurry Vision]   \n",
       "8    MAP    11  minfill  [Blurry Vision]   \n",
       "\n",
       "                                            Evidence   Runtime  \n",
       "0  {'Obesity': True, 'High Blood Pressure': True,...  1.771449  \n",
       "1  {'Obesity': True, 'High Blood Pressure': True,...  1.844426  \n",
       "2  {'Obesity': True, 'High Blood Pressure': True,...  2.331270  \n",
       "3  {'Obesity': True, 'High Blood Pressure': True,...  0.696791  \n",
       "4  {'Obesity': True, 'High Blood Pressure': True,...  0.771783  \n",
       "5  {'Obesity': True, 'High Blood Pressure': True,...  0.702787  \n",
       "6  {'Obesity': True, 'High Blood Pressure': True,...  1.567511  \n",
       "7  {'Obesity': True, 'High Blood Pressure': True,...  1.478578  \n",
       "8  {'Obesity': True, 'High Blood Pressure': True,...  1.531543  "
      ]
     },
     "execution_count": 208,
     "metadata": {},
     "output_type": "execute_result"
    }
   ],
   "source": [
    "df = pd.DataFrame(data, columns=[\"Method\", \"Vars\", \"Ordering\", \"Query\", \"Evidence\", \"Runtime\"])\n",
    "df"
   ]
  },
  {
   "cell_type": "code",
   "execution_count": 209,
   "metadata": {},
   "outputs": [],
   "source": [
    "# df.to_csv(\"outputs/map_11_q3.csv\", sep='\\t', index=False)"
   ]
  },
  {
   "cell_type": "code",
   "execution_count": null,
   "metadata": {},
   "outputs": [],
   "source": []
  },
  {
   "cell_type": "markdown",
   "metadata": {},
   "source": [
    "# MPE"
   ]
  },
  {
   "cell_type": "code",
   "execution_count": 244,
   "metadata": {},
   "outputs": [],
   "source": [
    "data = []"
   ]
  },
  {
   "cell_type": "code",
   "execution_count": 253,
   "metadata": {},
   "outputs": [
    {
     "name": "stdout",
     "output_type": "stream",
     "text": [
      "MPE done in 0.781 seconds!\n",
      "\n",
      "MPE:\n",
      "{'f_mult(f_mult(f_mult(f_mult(f_mult(f_mult(Heart Failure-f_mult(Blurry Vision)_max(Blurry Vision))_max(Heart Failure)-f_mult(Stress-High Blood Pressure-f_mult(Depression)_max(Depression)-f_mult(High Sugar Intake-Headache-f_mult(Obesity-Sleep Deprivation-Diabetes-Digestive Problems)_max(Obesity))_max(High Sugar Intake))_max(Stress))_max(Sleep Deprivation))_max(Headache))_max(Diabetes))_max(Digestive Problems))_max(High Blood Pressure)': p                           1.09907e-05\n",
      "inst_Digestive Problems            True\n",
      "inst_High Blood Pressure           True\n",
      "Name: 1, dtype: object}\n"
     ]
    },
    {
     "data": {
      "text/plain": [
       "[('MPE', 11, 'random', {'High Blood Pressure': True}, 2.0763185024261475),\n",
       " ('MPE', 11, 'random', {'High Blood Pressure': True}, 2.567189931869507),\n",
       " ('MPE', 11, 'random', {'High Blood Pressure': True}, 3.2119603157043457),\n",
       " ('MPE', 11, 'mindeg', {'High Blood Pressure': True}, 0.783759355545044),\n",
       " ('MPE', 11, 'mindeg', {'High Blood Pressure': True}, 0.8307197093963623),\n",
       " ('MPE', 11, 'mindeg', {'High Blood Pressure': True}, 0.7647652626037598),\n",
       " ('MPE', 11, 'minfill', {'High Blood Pressure': True}, 0.7767601013183594),\n",
       " ('MPE', 11, 'minfill', {'High Blood Pressure': True}, 0.8677539825439453),\n",
       " ('MPE', 11, 'minfill', {'High Blood Pressure': True}, 0.7807807922363281)]"
      ]
     },
     "execution_count": 253,
     "metadata": {},
     "output_type": "execute_result"
    }
   ],
   "source": [
    "evi = {'High Blood Pressure': True}\n",
    "\n",
    "start = time.time()\n",
    "MPE = bnr.MPE(evidence=evi, ordering_function=minfill_order)\n",
    "end = time.time()\n",
    "\n",
    "print(f\"MPE done in {round(end - start, 3)} seconds!\\n\")\n",
    "\n",
    "print(f\"MPE:\\n{MPE}\")\n",
    "\n",
    "data.append(('MPE', 11, 'minfill', evi, end-start))\n",
    "data"
   ]
  },
  {
   "cell_type": "code",
   "execution_count": 217,
   "metadata": {},
   "outputs": [
    {
     "data": {
      "text/plain": [
       "('MPE', 11, 'random', {'Blurry Vision': True}, 5.269336700439453)"
      ]
     },
     "execution_count": 217,
     "metadata": {},
     "output_type": "execute_result"
    }
   ],
   "source": [
    "data.pop()"
   ]
  },
  {
   "cell_type": "code",
   "execution_count": 254,
   "metadata": {},
   "outputs": [
    {
     "data": {
      "text/html": [
       "<div>\n",
       "<style scoped>\n",
       "    .dataframe tbody tr th:only-of-type {\n",
       "        vertical-align: middle;\n",
       "    }\n",
       "\n",
       "    .dataframe tbody tr th {\n",
       "        vertical-align: top;\n",
       "    }\n",
       "\n",
       "    .dataframe thead th {\n",
       "        text-align: right;\n",
       "    }\n",
       "</style>\n",
       "<table border=\"1\" class=\"dataframe\">\n",
       "  <thead>\n",
       "    <tr style=\"text-align: right;\">\n",
       "      <th></th>\n",
       "      <th>Method</th>\n",
       "      <th>Vars</th>\n",
       "      <th>Ordering</th>\n",
       "      <th>Evidence</th>\n",
       "      <th>Runtime</th>\n",
       "    </tr>\n",
       "  </thead>\n",
       "  <tbody>\n",
       "    <tr>\n",
       "      <th>0</th>\n",
       "      <td>MPE</td>\n",
       "      <td>11</td>\n",
       "      <td>random</td>\n",
       "      <td>{'High Blood Pressure': True}</td>\n",
       "      <td>2.076319</td>\n",
       "    </tr>\n",
       "    <tr>\n",
       "      <th>1</th>\n",
       "      <td>MPE</td>\n",
       "      <td>11</td>\n",
       "      <td>random</td>\n",
       "      <td>{'High Blood Pressure': True}</td>\n",
       "      <td>2.567190</td>\n",
       "    </tr>\n",
       "    <tr>\n",
       "      <th>2</th>\n",
       "      <td>MPE</td>\n",
       "      <td>11</td>\n",
       "      <td>random</td>\n",
       "      <td>{'High Blood Pressure': True}</td>\n",
       "      <td>3.211960</td>\n",
       "    </tr>\n",
       "    <tr>\n",
       "      <th>3</th>\n",
       "      <td>MPE</td>\n",
       "      <td>11</td>\n",
       "      <td>mindeg</td>\n",
       "      <td>{'High Blood Pressure': True}</td>\n",
       "      <td>0.783759</td>\n",
       "    </tr>\n",
       "    <tr>\n",
       "      <th>4</th>\n",
       "      <td>MPE</td>\n",
       "      <td>11</td>\n",
       "      <td>mindeg</td>\n",
       "      <td>{'High Blood Pressure': True}</td>\n",
       "      <td>0.830720</td>\n",
       "    </tr>\n",
       "    <tr>\n",
       "      <th>5</th>\n",
       "      <td>MPE</td>\n",
       "      <td>11</td>\n",
       "      <td>mindeg</td>\n",
       "      <td>{'High Blood Pressure': True}</td>\n",
       "      <td>0.764765</td>\n",
       "    </tr>\n",
       "    <tr>\n",
       "      <th>6</th>\n",
       "      <td>MPE</td>\n",
       "      <td>11</td>\n",
       "      <td>minfill</td>\n",
       "      <td>{'High Blood Pressure': True}</td>\n",
       "      <td>0.776760</td>\n",
       "    </tr>\n",
       "    <tr>\n",
       "      <th>7</th>\n",
       "      <td>MPE</td>\n",
       "      <td>11</td>\n",
       "      <td>minfill</td>\n",
       "      <td>{'High Blood Pressure': True}</td>\n",
       "      <td>0.867754</td>\n",
       "    </tr>\n",
       "    <tr>\n",
       "      <th>8</th>\n",
       "      <td>MPE</td>\n",
       "      <td>11</td>\n",
       "      <td>minfill</td>\n",
       "      <td>{'High Blood Pressure': True}</td>\n",
       "      <td>0.780781</td>\n",
       "    </tr>\n",
       "  </tbody>\n",
       "</table>\n",
       "</div>"
      ],
      "text/plain": [
       "  Method  Vars Ordering                       Evidence   Runtime\n",
       "0    MPE    11   random  {'High Blood Pressure': True}  2.076319\n",
       "1    MPE    11   random  {'High Blood Pressure': True}  2.567190\n",
       "2    MPE    11   random  {'High Blood Pressure': True}  3.211960\n",
       "3    MPE    11   mindeg  {'High Blood Pressure': True}  0.783759\n",
       "4    MPE    11   mindeg  {'High Blood Pressure': True}  0.830720\n",
       "5    MPE    11   mindeg  {'High Blood Pressure': True}  0.764765\n",
       "6    MPE    11  minfill  {'High Blood Pressure': True}  0.776760\n",
       "7    MPE    11  minfill  {'High Blood Pressure': True}  0.867754\n",
       "8    MPE    11  minfill  {'High Blood Pressure': True}  0.780781"
      ]
     },
     "execution_count": 254,
     "metadata": {},
     "output_type": "execute_result"
    }
   ],
   "source": [
    "df = pd.DataFrame(data, columns=[\"Method\", \"Vars\", \"Ordering\", \"Evidence\", \"Runtime\"])\n",
    "df"
   ]
  },
  {
   "cell_type": "code",
   "execution_count": 255,
   "metadata": {},
   "outputs": [],
   "source": [
    "# df.to_csv(\"outputs/mpe_11_q3.csv\", sep='\\t', index=False)"
   ]
  },
  {
   "cell_type": "code",
   "execution_count": null,
   "metadata": {},
   "outputs": [],
   "source": []
  },
  {
   "cell_type": "code",
   "execution_count": null,
   "metadata": {},
   "outputs": [],
   "source": []
  },
  {
   "cell_type": "code",
   "execution_count": null,
   "metadata": {},
   "outputs": [],
   "source": []
  },
  {
   "cell_type": "code",
   "execution_count": null,
   "metadata": {},
   "outputs": [],
   "source": []
  },
  {
   "cell_type": "code",
   "execution_count": null,
   "metadata": {},
   "outputs": [],
   "source": []
  },
  {
   "cell_type": "code",
   "execution_count": null,
   "metadata": {},
   "outputs": [],
   "source": []
  },
  {
   "cell_type": "markdown",
   "metadata": {},
   "source": [
    "# Usage\n",
    "---"
   ]
  },
  {
   "cell_type": "code",
   "execution_count": null,
   "metadata": {},
   "outputs": [],
   "source": [
    "# query inputs\n",
    "# evidence = {'hear-bark': True, 'family-out': True}\n",
    "# x = ['light-on']\n",
    "# prio = ['dog-out']"
   ]
  },
  {
   "cell_type": "markdown",
   "metadata": {},
   "source": [
    "### D-separation\n",
    "Checks whether x and y are d-separated, given (possibly empty) evidence. \n",
    "\n",
    "* x and y must be lists\n",
    "* evidence is (always) a dict\n",
    "* output is boolean"
   ]
  },
  {
   "cell_type": "code",
   "execution_count": null,
   "metadata": {},
   "outputs": [],
   "source": [
    "# dsep = bnr.d_separated(prio, x, evidence)\n",
    "# print(f\"Are {prio} and {x} d-separated by evidence '{evidence.keys()} = {evidence.values()}'?\\n\\n{dsep}\")"
   ]
  },
  {
   "cell_type": "markdown",
   "metadata": {},
   "source": [
    "### Ordering functions for determining elimination order\n",
    "inputs should be network structure\n",
    "* y = list of query variables\n",
    "* z = priority variables which are ordered first __[optional]__"
   ]
  },
  {
   "cell_type": "code",
   "execution_count": null,
   "metadata": {},
   "outputs": [],
   "source": [
    "# pi1 = mindeg_order(net=bn, query=prio)\n",
    "# pi2 = minfill_order(net=bn, query=prio)\n",
    "# print(f\"Variable orderings mindeg:\\t{pi1}\")\n",
    "# print(f\"Variable orderings minfill:\\t{pi2}\")"
   ]
  },
  {
   "cell_type": "markdown",
   "metadata": {},
   "source": [
    "### Marginal distributions\n",
    "with optional ordering function (name of function is input)"
   ]
  },
  {
   "cell_type": "code",
   "execution_count": null,
   "metadata": {},
   "outputs": [],
   "source": [
    "# without evidence:\n",
    "# prior_marginal = bnr.compute_marginal(query=x, ordering_function=random_order)\n",
    "# print(f\"\\n\\nPrior Marginal for Query {x}\\n{prior_marginal}\")\n",
    "\n",
    "# with evidence:\n",
    "# posterior_marginal = bnr.compute_marginal(query=x, evidence=evidence, ordering_function=minfill_order)\n",
    "# print(f\"\\nPosterior Marginal for Query {x} with Evidence {evidence}\\n{posterior_marginal}\")"
   ]
  },
  {
   "cell_type": "markdown",
   "metadata": {},
   "source": [
    "### Most likely instantiations"
   ]
  },
  {
   "cell_type": "code",
   "execution_count": null,
   "metadata": {},
   "outputs": [],
   "source": [
    "# MAP:\n",
    "# MAP = bnr.MAP(query=x, evidence=evidence)\n",
    "# print(f\"MAP:\\n{[MAP[key] for key in MAP]}\\n\")\n",
    "\n",
    "# MPE:\n",
    "# MPE = bnr.MPE(evidence=evidence, ordering_function=minfill_order)\n",
    "# print(f\"MPE:\\n{[MPE[key] for key in MPE]}\")"
   ]
  },
  {
   "cell_type": "code",
   "execution_count": null,
   "metadata": {},
   "outputs": [],
   "source": []
  },
  {
   "cell_type": "code",
   "execution_count": null,
   "metadata": {},
   "outputs": [],
   "source": []
  }
 ],
 "metadata": {
  "kernelspec": {
   "display_name": "Python 3",
   "language": "python",
   "name": "python3"
  },
  "language_info": {
   "codemirror_mode": {
    "name": "ipython",
    "version": 3
   },
   "file_extension": ".py",
   "mimetype": "text/x-python",
   "name": "python",
   "nbconvert_exporter": "python",
   "pygments_lexer": "ipython3",
   "version": "3.8.3"
  }
 },
 "nbformat": 4,
 "nbformat_minor": 4
}
