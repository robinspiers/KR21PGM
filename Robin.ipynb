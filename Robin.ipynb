{
 "cells": [
  {
   "cell_type": "code",
   "execution_count": 17,
   "metadata": {},
   "outputs": [],
   "source": [
    "import sys\n",
    "import time\n",
    "import random\n",
    "import math\n",
    "import itertools\n",
    "import numpy as np\n",
    "import pandas as pd\n",
    "import matplotlib.pyplot as plt\n",
    "import seaborn as sn\n",
    "import networkx as nx\n",
    "\n",
    "from copy import deepcopy\n",
    "from typing import Union, List, Tuple, Dict\n",
    "from pgmpy.readwrite import XMLBIFReader\n",
    "\n",
    "from BayesNet import *\n",
    "from BNReasoner import *\n",
    "from utils import *"
   ]
  },
  {
   "cell_type": "markdown",
   "metadata": {},
   "source": [
    "# Initialize\n",
    "---"
   ]
  },
  {
   "cell_type": "code",
   "execution_count": 256,
   "metadata": {},
   "outputs": [],
   "source": [
    "# BIFXML files\n",
    "net = './testing/dog_problem.BIFXML'"
   ]
  },
  {
   "cell_type": "code",
   "execution_count": 257,
   "metadata": {},
   "outputs": [],
   "source": [
    "# constructs a BN object\n",
    "bn = BayesNet()\n",
    "\n",
    "# Loads the BN from an BIFXML file\n",
    "bn.load_from_bifxml(net)\n",
    "\n",
    "# create reasoner\n",
    "bnr = BNReasoner(bn)"
   ]
  },
  {
   "cell_type": "markdown",
   "metadata": {},
   "source": [
    "### PERFORMANCE EVALUATION"
   ]
  },
  {
   "cell_type": "code",
   "execution_count": 288,
   "metadata": {},
   "outputs": [],
   "source": [
    "data = []"
   ]
  },
  {
   "cell_type": "code",
   "execution_count": 297,
   "metadata": {},
   "outputs": [
    {
     "name": "stdout",
     "output_type": "stream",
     "text": [
      "MAP done in 0.077 seconds!\n",
      "\n",
      "MAP:\n",
      "{'f_mult(f_mult(family-out-f_mult(hear-bark-f_mult(bowel-problem-dog-out)_sum(bowel-problem))_sum(dog-out))_sum(family-out))_max(hear-bark)': p                     0\n",
      "inst_hear-bark    False\n",
      "Name: 0, dtype: object}\n",
      "\n"
     ]
    },
    {
     "data": {
      "text/plain": [
       "[('MAP', 5, 'random', ['hear-bark'], {'dog-out': 'true'}, 0.09596943855285645),\n",
       " ('MAP', 5, 'random', ['hear-bark'], {'dog-out': 'true'}, 0.09198141098022461),\n",
       " ('MAP', 5, 'random', ['hear-bark'], {'dog-out': 'true'}, 0.07597470283508301),\n",
       " ('MAP', 5, 'mindeg', ['hear-bark'], {'dog-out': 'true'}, 0.07297635078430176),\n",
       " ('MAP', 5, 'mindeg', ['hear-bark'], {'dog-out': 'true'}, 0.07098817825317383),\n",
       " ('MAP', 5, 'mindeg', ['hear-bark'], {'dog-out': 'true'}, 0.07100558280944824),\n",
       " ('MAP', 5, 'minfill', ['hear-bark'], {'dog-out': 'true'}, 0.0779869556427002),\n",
       " ('MAP',\n",
       "  5,\n",
       "  'minfill',\n",
       "  ['hear-bark'],\n",
       "  {'dog-out': 'true'},\n",
       "  0.07700419425964355),\n",
       " ('MAP',\n",
       "  5,\n",
       "  'minfill',\n",
       "  ['hear-bark'],\n",
       "  {'dog-out': 'true'},\n",
       "  0.07698607444763184)]"
      ]
     },
     "execution_count": 297,
     "metadata": {},
     "output_type": "execute_result"
    }
   ],
   "source": [
    "evi = {\n",
    "        'dog-out': 'true'\n",
    "}\n",
    "\n",
    "qry = ['hear-bark']\n",
    "\n",
    "start = time.time()\n",
    "MAP = bnr.MAP(query=qry, evidence=evi, ordering_function=minfill_order)\n",
    "end = time.time()\n",
    "\n",
    "print(f\"MAP done in {round(end - start, 3)} seconds!\\n\")\n",
    "\n",
    "print(f\"MAP:\\n{MAP}\\n\")\n",
    "\n",
    "data.append(('MAP', 5, 'minfill', qry, evi, end-start))\n",
    "data"
   ]
  },
  {
   "cell_type": "code",
   "execution_count": 188,
   "metadata": {},
   "outputs": [
    {
     "data": {
      "text/plain": [
       "('MAP',\n",
       " 11,\n",
       " 'minfill',\n",
       " ['Blurry Vision'],\n",
       " {'Headache': True, 'Diabetes': False, 'Sleep Deprivation': True},\n",
       " 1.4665625095367432)"
      ]
     },
     "execution_count": 188,
     "metadata": {},
     "output_type": "execute_result"
    }
   ],
   "source": [
    "data.pop()"
   ]
  },
  {
   "cell_type": "code",
   "execution_count": 298,
   "metadata": {},
   "outputs": [
    {
     "data": {
      "text/html": [
       "<div>\n",
       "<style scoped>\n",
       "    .dataframe tbody tr th:only-of-type {\n",
       "        vertical-align: middle;\n",
       "    }\n",
       "\n",
       "    .dataframe tbody tr th {\n",
       "        vertical-align: top;\n",
       "    }\n",
       "\n",
       "    .dataframe thead th {\n",
       "        text-align: right;\n",
       "    }\n",
       "</style>\n",
       "<table border=\"1\" class=\"dataframe\">\n",
       "  <thead>\n",
       "    <tr style=\"text-align: right;\">\n",
       "      <th></th>\n",
       "      <th>Method</th>\n",
       "      <th>Vars</th>\n",
       "      <th>Ordering</th>\n",
       "      <th>Query</th>\n",
       "      <th>Evidence</th>\n",
       "      <th>Runtime</th>\n",
       "    </tr>\n",
       "  </thead>\n",
       "  <tbody>\n",
       "    <tr>\n",
       "      <th>0</th>\n",
       "      <td>MAP</td>\n",
       "      <td>5</td>\n",
       "      <td>random</td>\n",
       "      <td>[hear-bark]</td>\n",
       "      <td>{'dog-out': 'true'}</td>\n",
       "      <td>0.095969</td>\n",
       "    </tr>\n",
       "    <tr>\n",
       "      <th>1</th>\n",
       "      <td>MAP</td>\n",
       "      <td>5</td>\n",
       "      <td>random</td>\n",
       "      <td>[hear-bark]</td>\n",
       "      <td>{'dog-out': 'true'}</td>\n",
       "      <td>0.091981</td>\n",
       "    </tr>\n",
       "    <tr>\n",
       "      <th>2</th>\n",
       "      <td>MAP</td>\n",
       "      <td>5</td>\n",
       "      <td>random</td>\n",
       "      <td>[hear-bark]</td>\n",
       "      <td>{'dog-out': 'true'}</td>\n",
       "      <td>0.075975</td>\n",
       "    </tr>\n",
       "    <tr>\n",
       "      <th>3</th>\n",
       "      <td>MAP</td>\n",
       "      <td>5</td>\n",
       "      <td>mindeg</td>\n",
       "      <td>[hear-bark]</td>\n",
       "      <td>{'dog-out': 'true'}</td>\n",
       "      <td>0.072976</td>\n",
       "    </tr>\n",
       "    <tr>\n",
       "      <th>4</th>\n",
       "      <td>MAP</td>\n",
       "      <td>5</td>\n",
       "      <td>mindeg</td>\n",
       "      <td>[hear-bark]</td>\n",
       "      <td>{'dog-out': 'true'}</td>\n",
       "      <td>0.070988</td>\n",
       "    </tr>\n",
       "    <tr>\n",
       "      <th>5</th>\n",
       "      <td>MAP</td>\n",
       "      <td>5</td>\n",
       "      <td>mindeg</td>\n",
       "      <td>[hear-bark]</td>\n",
       "      <td>{'dog-out': 'true'}</td>\n",
       "      <td>0.071006</td>\n",
       "    </tr>\n",
       "    <tr>\n",
       "      <th>6</th>\n",
       "      <td>MAP</td>\n",
       "      <td>5</td>\n",
       "      <td>minfill</td>\n",
       "      <td>[hear-bark]</td>\n",
       "      <td>{'dog-out': 'true'}</td>\n",
       "      <td>0.077987</td>\n",
       "    </tr>\n",
       "    <tr>\n",
       "      <th>7</th>\n",
       "      <td>MAP</td>\n",
       "      <td>5</td>\n",
       "      <td>minfill</td>\n",
       "      <td>[hear-bark]</td>\n",
       "      <td>{'dog-out': 'true'}</td>\n",
       "      <td>0.077004</td>\n",
       "    </tr>\n",
       "    <tr>\n",
       "      <th>8</th>\n",
       "      <td>MAP</td>\n",
       "      <td>5</td>\n",
       "      <td>minfill</td>\n",
       "      <td>[hear-bark]</td>\n",
       "      <td>{'dog-out': 'true'}</td>\n",
       "      <td>0.076986</td>\n",
       "    </tr>\n",
       "  </tbody>\n",
       "</table>\n",
       "</div>"
      ],
      "text/plain": [
       "  Method  Vars Ordering        Query             Evidence   Runtime\n",
       "0    MAP     5   random  [hear-bark]  {'dog-out': 'true'}  0.095969\n",
       "1    MAP     5   random  [hear-bark]  {'dog-out': 'true'}  0.091981\n",
       "2    MAP     5   random  [hear-bark]  {'dog-out': 'true'}  0.075975\n",
       "3    MAP     5   mindeg  [hear-bark]  {'dog-out': 'true'}  0.072976\n",
       "4    MAP     5   mindeg  [hear-bark]  {'dog-out': 'true'}  0.070988\n",
       "5    MAP     5   mindeg  [hear-bark]  {'dog-out': 'true'}  0.071006\n",
       "6    MAP     5  minfill  [hear-bark]  {'dog-out': 'true'}  0.077987\n",
       "7    MAP     5  minfill  [hear-bark]  {'dog-out': 'true'}  0.077004\n",
       "8    MAP     5  minfill  [hear-bark]  {'dog-out': 'true'}  0.076986"
      ]
     },
     "execution_count": 298,
     "metadata": {},
     "output_type": "execute_result"
    }
   ],
   "source": [
    "df = pd.DataFrame(data, columns=[\"Method\", \"Vars\", \"Ordering\", \"Query\", \"Evidence\", \"Runtime\"])\n",
    "df"
   ]
  },
  {
   "cell_type": "code",
   "execution_count": 299,
   "metadata": {},
   "outputs": [],
   "source": [
    "# df.to_csv(\"outputs/map_5_q3.csv\", sep='\\t', index=False)"
   ]
  },
  {
   "cell_type": "code",
   "execution_count": null,
   "metadata": {},
   "outputs": [],
   "source": []
  },
  {
   "cell_type": "markdown",
   "metadata": {},
   "source": [
    "# MPE"
   ]
  },
  {
   "cell_type": "code",
   "execution_count": 326,
   "metadata": {},
   "outputs": [],
   "source": [
    "data = []"
   ]
  },
  {
   "cell_type": "code",
   "execution_count": 327,
   "metadata": {},
   "outputs": [
    {
     "name": "stdout",
     "output_type": "stream",
     "text": [
      "MPE done in 0.098 seconds!\n",
      "\n",
      "MPE:\n",
      "{'f_mult(family-out-f_mult(light-on)_max(light-on)-f_mult(f_mult(bowel-problem-dog-out)_max(bowel-problem)-f_mult(hear-bark)_max(hear-bark))_max(dog-out))_max(family-out)': inst_light-on      False\n",
      "p                      0\n",
      "inst_dog-out       False\n",
      "inst_family-out    False\n",
      "Name: 0, dtype: object}\n"
     ]
    },
    {
     "data": {
      "text/plain": [
       "[('MPE', 5, 'minfill', {'dog-out': 'true'}, 0.09796857833862305)]"
      ]
     },
     "execution_count": 327,
     "metadata": {},
     "output_type": "execute_result"
    }
   ],
   "source": [
    "evi = {'dog-out': 'true'}\n",
    "\n",
    "start = time.time()\n",
    "MPE = bnr.MPE(evidence=evi, ordering_function=random_order)\n",
    "end = time.time()\n",
    "\n",
    "print(f\"MPE done in {round(end - start, 3)} seconds!\\n\")\n",
    "\n",
    "print(f\"MPE:\\n{MPE}\")\n",
    "\n",
    "data.append(('MPE', 5, 'minfill', evi, end-start))\n",
    "data"
   ]
  },
  {
   "cell_type": "code",
   "execution_count": 321,
   "metadata": {},
   "outputs": [
    {
     "data": {
      "text/plain": [
       "('MPE', 5, 'minfill', {'hear-bark': 'false'}, 0.08695816993713379)"
      ]
     },
     "execution_count": 321,
     "metadata": {},
     "output_type": "execute_result"
    }
   ],
   "source": [
    "data.pop()"
   ]
  },
  {
   "cell_type": "code",
   "execution_count": 324,
   "metadata": {},
   "outputs": [
    {
     "data": {
      "text/html": [
       "<div>\n",
       "<style scoped>\n",
       "    .dataframe tbody tr th:only-of-type {\n",
       "        vertical-align: middle;\n",
       "    }\n",
       "\n",
       "    .dataframe tbody tr th {\n",
       "        vertical-align: top;\n",
       "    }\n",
       "\n",
       "    .dataframe thead th {\n",
       "        text-align: right;\n",
       "    }\n",
       "</style>\n",
       "<table border=\"1\" class=\"dataframe\">\n",
       "  <thead>\n",
       "    <tr style=\"text-align: right;\">\n",
       "      <th></th>\n",
       "      <th>Method</th>\n",
       "      <th>Vars</th>\n",
       "      <th>Ordering</th>\n",
       "      <th>Evidence</th>\n",
       "      <th>Runtime</th>\n",
       "    </tr>\n",
       "  </thead>\n",
       "  <tbody>\n",
       "    <tr>\n",
       "      <th>0</th>\n",
       "      <td>MPE</td>\n",
       "      <td>5</td>\n",
       "      <td>random</td>\n",
       "      <td>{'hear-bark': 'false'}</td>\n",
       "      <td>0.111974</td>\n",
       "    </tr>\n",
       "    <tr>\n",
       "      <th>1</th>\n",
       "      <td>MPE</td>\n",
       "      <td>5</td>\n",
       "      <td>random</td>\n",
       "      <td>{'hear-bark': 'false'}</td>\n",
       "      <td>0.090983</td>\n",
       "    </tr>\n",
       "    <tr>\n",
       "      <th>2</th>\n",
       "      <td>MPE</td>\n",
       "      <td>5</td>\n",
       "      <td>random</td>\n",
       "      <td>{'hear-bark': 'false'}</td>\n",
       "      <td>0.138986</td>\n",
       "    </tr>\n",
       "    <tr>\n",
       "      <th>3</th>\n",
       "      <td>MPE</td>\n",
       "      <td>5</td>\n",
       "      <td>mindeg</td>\n",
       "      <td>{'hear-bark': 'false'}</td>\n",
       "      <td>0.090970</td>\n",
       "    </tr>\n",
       "    <tr>\n",
       "      <th>4</th>\n",
       "      <td>MPE</td>\n",
       "      <td>5</td>\n",
       "      <td>mindeg</td>\n",
       "      <td>{'hear-bark': 'false'}</td>\n",
       "      <td>0.088977</td>\n",
       "    </tr>\n",
       "    <tr>\n",
       "      <th>5</th>\n",
       "      <td>MPE</td>\n",
       "      <td>5</td>\n",
       "      <td>mindeg</td>\n",
       "      <td>{'hear-bark': 'false'}</td>\n",
       "      <td>0.087984</td>\n",
       "    </tr>\n",
       "    <tr>\n",
       "      <th>6</th>\n",
       "      <td>MPE</td>\n",
       "      <td>5</td>\n",
       "      <td>minfill</td>\n",
       "      <td>{'hear-bark': 'false'}</td>\n",
       "      <td>0.087000</td>\n",
       "    </tr>\n",
       "    <tr>\n",
       "      <th>7</th>\n",
       "      <td>MPE</td>\n",
       "      <td>5</td>\n",
       "      <td>minfill</td>\n",
       "      <td>{'hear-bark': 'false'}</td>\n",
       "      <td>0.084002</td>\n",
       "    </tr>\n",
       "    <tr>\n",
       "      <th>8</th>\n",
       "      <td>MPE</td>\n",
       "      <td>5</td>\n",
       "      <td>minfill</td>\n",
       "      <td>{'hear-bark': 'false'}</td>\n",
       "      <td>0.092970</td>\n",
       "    </tr>\n",
       "  </tbody>\n",
       "</table>\n",
       "</div>"
      ],
      "text/plain": [
       "  Method  Vars Ordering                Evidence   Runtime\n",
       "0    MPE     5   random  {'hear-bark': 'false'}  0.111974\n",
       "1    MPE     5   random  {'hear-bark': 'false'}  0.090983\n",
       "2    MPE     5   random  {'hear-bark': 'false'}  0.138986\n",
       "3    MPE     5   mindeg  {'hear-bark': 'false'}  0.090970\n",
       "4    MPE     5   mindeg  {'hear-bark': 'false'}  0.088977\n",
       "5    MPE     5   mindeg  {'hear-bark': 'false'}  0.087984\n",
       "6    MPE     5  minfill  {'hear-bark': 'false'}  0.087000\n",
       "7    MPE     5  minfill  {'hear-bark': 'false'}  0.084002\n",
       "8    MPE     5  minfill  {'hear-bark': 'false'}  0.092970"
      ]
     },
     "execution_count": 324,
     "metadata": {},
     "output_type": "execute_result"
    }
   ],
   "source": [
    "df = pd.DataFrame(data, columns=[\"Method\", \"Vars\", \"Ordering\", \"Evidence\", \"Runtime\"])\n",
    "df"
   ]
  },
  {
   "cell_type": "code",
   "execution_count": 325,
   "metadata": {},
   "outputs": [],
   "source": [
    "df.to_csv(\"outputs/mpe_5_q2.csv\", sep='\\t', index=False)"
   ]
  },
  {
   "cell_type": "code",
   "execution_count": null,
   "metadata": {},
   "outputs": [],
   "source": []
  },
  {
   "cell_type": "code",
   "execution_count": null,
   "metadata": {},
   "outputs": [],
   "source": []
  },
  {
   "cell_type": "code",
   "execution_count": null,
   "metadata": {},
   "outputs": [],
   "source": []
  },
  {
   "cell_type": "code",
   "execution_count": null,
   "metadata": {},
   "outputs": [],
   "source": []
  },
  {
   "cell_type": "code",
   "execution_count": null,
   "metadata": {},
   "outputs": [],
   "source": []
  },
  {
   "cell_type": "code",
   "execution_count": null,
   "metadata": {},
   "outputs": [],
   "source": []
  },
  {
   "cell_type": "markdown",
   "metadata": {},
   "source": [
    "# Usage\n",
    "---"
   ]
  },
  {
   "cell_type": "code",
   "execution_count": null,
   "metadata": {},
   "outputs": [],
   "source": [
    "# query inputs\n",
    "# evidence = {'hear-bark': True, 'family-out': True}\n",
    "# x = ['light-on']\n",
    "# prio = ['dog-out']"
   ]
  },
  {
   "cell_type": "markdown",
   "metadata": {},
   "source": [
    "### D-separation\n",
    "Checks whether x and y are d-separated, given (possibly empty) evidence. \n",
    "\n",
    "* x and y must be lists\n",
    "* evidence is (always) a dict\n",
    "* output is boolean"
   ]
  },
  {
   "cell_type": "code",
   "execution_count": null,
   "metadata": {},
   "outputs": [],
   "source": [
    "# dsep = bnr.d_separated(prio, x, evidence)\n",
    "# print(f\"Are {prio} and {x} d-separated by evidence '{evidence.keys()} = {evidence.values()}'?\\n\\n{dsep}\")"
   ]
  },
  {
   "cell_type": "markdown",
   "metadata": {},
   "source": [
    "### Ordering functions for determining elimination order\n",
    "inputs should be network structure\n",
    "* y = list of query variables\n",
    "* z = priority variables which are ordered first __[optional]__"
   ]
  },
  {
   "cell_type": "code",
   "execution_count": null,
   "metadata": {},
   "outputs": [],
   "source": [
    "# pi1 = mindeg_order(net=bn, query=prio)\n",
    "# pi2 = minfill_order(net=bn, query=prio)\n",
    "# print(f\"Variable orderings mindeg:\\t{pi1}\")\n",
    "# print(f\"Variable orderings minfill:\\t{pi2}\")"
   ]
  },
  {
   "cell_type": "markdown",
   "metadata": {},
   "source": [
    "### Marginal distributions\n",
    "with optional ordering function (name of function is input)"
   ]
  },
  {
   "cell_type": "code",
   "execution_count": null,
   "metadata": {},
   "outputs": [],
   "source": [
    "# without evidence:\n",
    "# prior_marginal = bnr.compute_marginal(query=x, ordering_function=random_order)\n",
    "# print(f\"\\n\\nPrior Marginal for Query {x}\\n{prior_marginal}\")\n",
    "\n",
    "# with evidence:\n",
    "# posterior_marginal = bnr.compute_marginal(query=x, evidence=evidence, ordering_function=minfill_order)\n",
    "# print(f\"\\nPosterior Marginal for Query {x} with Evidence {evidence}\\n{posterior_marginal}\")"
   ]
  },
  {
   "cell_type": "markdown",
   "metadata": {},
   "source": [
    "### Most likely instantiations"
   ]
  },
  {
   "cell_type": "code",
   "execution_count": null,
   "metadata": {},
   "outputs": [],
   "source": [
    "# MAP:\n",
    "# MAP = bnr.MAP(query=x, evidence=evidence)\n",
    "# print(f\"MAP:\\n{[MAP[key] for key in MAP]}\\n\")\n",
    "\n",
    "# MPE:\n",
    "# MPE = bnr.MPE(evidence=evidence, ordering_function=minfill_order)\n",
    "# print(f\"MPE:\\n{[MPE[key] for key in MPE]}\")"
   ]
  },
  {
   "cell_type": "code",
   "execution_count": null,
   "metadata": {},
   "outputs": [],
   "source": []
  },
  {
   "cell_type": "code",
   "execution_count": null,
   "metadata": {},
   "outputs": [],
   "source": []
  }
 ],
 "metadata": {
  "kernelspec": {
   "display_name": "Python 3",
   "language": "python",
   "name": "python3"
  },
  "language_info": {
   "codemirror_mode": {
    "name": "ipython",
    "version": 3
   },
   "file_extension": ".py",
   "mimetype": "text/x-python",
   "name": "python",
   "nbconvert_exporter": "python",
   "pygments_lexer": "ipython3",
   "version": "3.8.3"
  }
 },
 "nbformat": 4,
 "nbformat_minor": 4
}
