{
 "cells": [
  {
   "cell_type": "code",
   "execution_count": 21,
   "metadata": {},
   "outputs": [],
   "source": [
    "import sys\n",
    "import random\n",
    "import math\n",
    "import itertools\n",
    "import numpy as np\n",
    "import pandas as pd\n",
    "import matplotlib.pyplot as plt\n",
    "import seaborn as sn\n",
    "import networkx as nx\n",
    "\n",
    "from copy import deepcopy\n",
    "from typing import Union, List, Tuple, Dict\n",
    "from pgmpy.readwrite import XMLBIFReader\n",
    "\n",
    "from BayesNet import *\n",
    "from BNReasoner import *\n",
    "from utils import *"
   ]
  },
  {
   "cell_type": "markdown",
   "metadata": {},
   "source": [
    "# Initialize\n",
    "---"
   ]
  },
  {
   "cell_type": "code",
   "execution_count": 8,
   "metadata": {},
   "outputs": [],
   "source": [
    "# BIFXML files\n",
    "net = './testing/lecture_example.BIFXML'"
   ]
  },
  {
   "cell_type": "code",
   "execution_count": 9,
   "metadata": {},
   "outputs": [],
   "source": [
    "# constructs a BN object\n",
    "bn = BayesNet()\n",
    "\n",
    "# Loads the BN from an BIFXML file\n",
    "bn.load_from_bifxml(net)\n",
    "\n",
    "# create reasoner\n",
    "bnr = BNReasoner(bn)"
   ]
  },
  {
   "cell_type": "code",
   "execution_count": 38,
   "metadata": {},
   "outputs": [],
   "source": [
    "# query inputs\n",
    "\n",
    "evidence = {'Winter?': True}\n",
    "\n",
    "x = ['Slippery Road?']\n",
    "\n",
    "prio = ['Wet Grass?','Rain?']"
   ]
  },
  {
   "cell_type": "markdown",
   "metadata": {},
   "source": [
    "# Usage\n",
    "---"
   ]
  },
  {
   "cell_type": "markdown",
   "metadata": {},
   "source": [
    "### D-separation\n",
    "Checks whether x and y are d-separated, given (possibly empty) evidence. \n",
    "\n",
    "* x and y must be lists\n",
    "* evidence is (always) a dict\n",
    "* output is boolean"
   ]
  },
  {
   "cell_type": "code",
   "execution_count": 39,
   "metadata": {},
   "outputs": [
    {
     "name": "stdout",
     "output_type": "stream",
     "text": [
      "Are ['Wet Grass?', 'Rain?'] and ['Slippery Road?'] d-separated by evidence 'Winter? = True'?\n",
      "\n",
      "True\n"
     ]
    }
   ],
   "source": [
    "dsep = bnr.d_separated(prio, x, evidence)\n",
    "print(f\"Are {prio} and {x} d-separated by evidence '{next(iter(evidence))} = {evidence[next(iter(evidence))]}'?\\n\\n{dsep}\")"
   ]
  },
  {
   "cell_type": "markdown",
   "metadata": {},
   "source": [
    "### Ordering functions for determining elimination order\n",
    "inputs should be network structure\n",
    "* y = list of query variables\n",
    "* z = priority variables which are ordered first __[optional]__"
   ]
  },
  {
   "cell_type": "code",
   "execution_count": 48,
   "metadata": {},
   "outputs": [
    {
     "name": "stdout",
     "output_type": "stream",
     "text": [
      "Variable orderings mindeg:\t['Wet Grass?', 'Rain?']\n",
      "Variable orderings minfill:\t['Wet Grass?', 'Rain?']\n"
     ]
    }
   ],
   "source": [
    "pi1 = mindeg_order(net=bn, query=prio)\n",
    "pi2 = minfill_order(net=bn, query=prio)\n",
    "print(f\"Variable orderings mindeg:\\t{pi1}\")\n",
    "print(f\"Variable orderings minfill:\\t{pi2}\")"
   ]
  },
  {
   "cell_type": "markdown",
   "metadata": {},
   "source": [
    "### Marginal distributions\n",
    "with optional ordering function (name of function is input)"
   ]
  },
  {
   "cell_type": "code",
   "execution_count": 57,
   "metadata": {},
   "outputs": [
    {
     "name": "stdout",
     "output_type": "stream",
     "text": [
      "\n",
      "\n",
      "Prior Marginal for Query ['Slippery Road?']\n",
      "{'f3':    Slippery Road?      p\n",
      "0           False  0.636\n",
      "1            True  0.364}\n",
      "\n",
      "Posterior Marginal for Query ['Slippery Road?'] with Evidence {'Winter?': True}\n",
      "{'f3':    Slippery Road?      p\n",
      "0           False  0.264\n",
      "1            True  0.336}\n"
     ]
    }
   ],
   "source": [
    "# without evidence:\n",
    "prior_marginal = bnr.compute_marginal(query=x, ordering_function=random_order)\n",
    "print(f\"\\n\\nPrior Marginal for Query {x}\\n{prior_marginal}\")\n",
    "\n",
    "# with evidence:\n",
    "posterior_marginal = bnr.compute_marginal(query=x, evidence=evidence, ordering_function=minfill_order)\n",
    "print(f\"\\nPosterior Marginal for Query {x} with Evidence {evidence}\\n{posterior_marginal}\")"
   ]
  },
  {
   "cell_type": "markdown",
   "metadata": {},
   "source": [
    "### Most likely instantiations"
   ]
  },
  {
   "cell_type": "code",
   "execution_count": 59,
   "metadata": {},
   "outputs": [
    {
     "name": "stdout",
     "output_type": "stream",
     "text": [
      "MAP:\n",
      "[p                      0.336\n",
      "inst_Slippery Road?     True\n",
      "Name: 1, dtype: object]\n",
      "\n",
      "MPE:\n",
      "[p                      0.21504\n",
      "inst_Rain?                True\n",
      "inst_Slippery Road?       True\n",
      "Name: 1, dtype: object]\n"
     ]
    }
   ],
   "source": [
    "# MAP:\n",
    "MAP = bnr.MAP(query=x, evidence=evidence)\n",
    "print(f\"MAP:\\n{[MAP[key] for key in MAP]}\\n\")\n",
    "\n",
    "# MPE:\n",
    "MPE = bnr.MPE(evidence=evidence, ordering_function=minfill_order)\n",
    "print(f\"MPE:\\n{[MPE[key] for key in MPE]}\")"
   ]
  },
  {
   "cell_type": "code",
   "execution_count": null,
   "metadata": {},
   "outputs": [],
   "source": []
  },
  {
   "cell_type": "code",
   "execution_count": null,
   "metadata": {},
   "outputs": [],
   "source": []
  }
 ],
 "metadata": {
  "kernelspec": {
   "display_name": "Python 3",
   "language": "python",
   "name": "python3"
  },
  "language_info": {
   "codemirror_mode": {
    "name": "ipython",
    "version": 3
   },
   "file_extension": ".py",
   "mimetype": "text/x-python",
   "name": "python",
   "nbconvert_exporter": "python",
   "pygments_lexer": "ipython3",
   "version": "3.8.3"
  }
 },
 "nbformat": 4,
 "nbformat_minor": 4
}
